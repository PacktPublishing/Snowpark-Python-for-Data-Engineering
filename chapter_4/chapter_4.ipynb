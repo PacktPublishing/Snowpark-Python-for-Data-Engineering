{
 "cells": [
  {
   "attachments": {},
   "cell_type": "markdown",
   "metadata": {},
   "source": [
    "#### Session Connection"
   ]
  },
  {
   "cell_type": "code",
   "execution_count": 1,
   "metadata": {},
   "outputs": [],
   "source": [
    "from snowflake.snowpark import Session\n",
    "from snowflake.snowpark.functions import col\n",
    "import configparser\n",
    "\n",
    "connection_parameters = {\n",
    "    \"account\": \"<your snowflake account identifier>\",\n",
    "    \"user\": \"<your snowflake username>\",\n",
    "    \"password\": \"<your snowflake password>\",\n",
    "    \"role\": \"<your snowflake role>\",\n",
    "    \"warehouse\": \"<your snowflake warehouse>\",  # optional\n",
    "    \"database\": \"<your snowflake database>\",  # optional\n",
    "    \"schema\": \"<your snowflake schema>\" # optional\n",
    "  }\n",
    "\n",
    "# it is best practice to not use/save your credentials in a jupyter notebook\n",
    "# In this case I'm loading my credentials as a dictionary\n",
    "snowflake_credentials_file = '../snowflake_creds.config'\n",
    "config = configparser.ConfigParser()\n",
    "config.read(snowflake_credentials_file)\n",
    "connection_parameters = dict(config['default'])\n",
    "session = Session.builder.configs(connection_parameters).create()"
   ]
  },
  {
   "attachments": {},
   "cell_type": "markdown",
   "metadata": {},
   "source": [
    "#### Loading Required Tables"
   ]
  },
  {
   "cell_type": "code",
   "execution_count": 7,
   "metadata": {},
   "outputs": [],
   "source": [
    "session.use_database(\"SNOWPARK_DEFINITIVE_GUIDE\")\n",
    "session.use_schema(\"MY_SCHEMA\")\n",
    "\n",
    "purchase_history = session.table(\"PURCHASE_HISTORY\")\n",
    "campaign_info = session.table(\"CAMPAIGN_INFO\")\n",
    "complain_info = session.table(\"COMPLAINT_INFO\")\n",
    "marketing_additional = session.table(\"MARKETING_ADDITIONAL\")"
   ]
  },
  {
   "cell_type": "markdown",
   "metadata": {},
   "source": [
    "## Data Engineering Pipelines"
   ]
  },
  {
   "attachments": {},
   "cell_type": "markdown",
   "metadata": {},
   "source": [
    "#### Step 1 -  Joining Purchase History table with Campaign Info"
   ]
  },
  {
   "cell_type": "code",
   "execution_count": 8,
   "metadata": {},
   "outputs": [],
   "source": [
    "def combine_campaign_table(purchase_history,campaign_info):\n",
    "    purchase_campaign = purchase_history.join(campaign_info, purchase_history.ID == campaign_info.ID\\\n",
    "                        ,lsuffix=\"_left\", rsuffix=\"_right\")\n",
    "    purchase_campaign = purchase_campaign.drop(\"ID_RIGHT\")\n",
    "    return purchase_campaign"
   ]
  },
  {
   "attachments": {},
   "cell_type": "markdown",
   "metadata": {},
   "source": [
    " #### Step 2 -  Joining Purchase Campaign With Complain Info Table"
   ]
  },
  {
   "cell_type": "code",
   "execution_count": 9,
   "metadata": {},
   "outputs": [],
   "source": [
    "def combine_complain_table(purchase_campaign,complain_info):\n",
    "    purchase_campaign_complain = purchase_campaign.join(complain_info, purchase_campaign[\"ID_LEFT\"] == complain_info.ID)\n",
    "    purchase_campaign_complain = purchase_campaign_complain.drop(\"ID_LEFT\")\n",
    "    return purchase_campaign_complain"
   ]
  },
  {
   "attachments": {},
   "cell_type": "markdown",
   "metadata": {},
   "source": [
    "#### Step 3 -  Union Additional Marketing Table with Purchase Campaign Complain Data"
   ]
  },
  {
   "cell_type": "code",
   "execution_count": 10,
   "metadata": {},
   "outputs": [],
   "source": [
    "def union_marketing_additional_table(purchase_campaign_complain,marketing_additional):\n",
    "    final_marketing_table = purchase_campaign_complain.union_by_name(marketing_additional)\n",
    "    return final_marketing_table\n"
   ]
  },
  {
   "attachments": {},
   "cell_type": "markdown",
   "metadata": {},
   "source": [
    "#### Store Procedure - Data Preparation"
   ]
  },
  {
   "cell_type": "code",
   "execution_count": 11,
   "metadata": {},
   "outputs": [],
   "source": [
    "from snowflake.snowpark.functions import sproc\n",
    "import snowflake\n",
    "\n",
    "def data_prep(session: Session):\n",
    "\n",
    "\n",
    "    #### Loading Required Tables\n",
    "    purchase_history = session.table(\"PURCHASE_HISTORY\")\n",
    "    campaign_info = session.table(\"CAMPAIGN_INFO\")\n",
    "    complain_info = session.table(\"COMPLAINT_INFO\")\n",
    "    marketing_additional = session.table(\"MARKETING_ADDITIONAL\")\n",
    "\n",
    "    #### Calling Step 1\n",
    "    purchase_campaign = combine_campaign_table(purchase_history,campaign_info)\n",
    "\n",
    "    #### Calling Step 2\n",
    "    purchase_campaign_complain =  combine_complain_table(purchase_campaign,complain_info)\n",
    "\n",
    "    #### Calling Step 3\n",
    "    final_marketing_data = union_marketing_additional_table(purchase_campaign_complain,marketing_additional)\n",
    "\n",
    "    #### Writing Combined Data To New Table\n",
    "    final_marketing_data.write.save_as_table(\"FINAL_MARKETING_DATA\")\n",
    "    return \"LOADED FINAL MARKETING DATA TABLE\"\n",
    "\n",
    "\n",
    "\n",
    "# Create an instance of StoredProcedure using the sproc() function\n",
    "from snowflake.snowpark.types import IntegerType,StringType\n",
    "data_prep_sproc = sproc(\n",
    "                        func= data_prep,\\\n",
    "                        replace=True,\\\n",
    "                        return_type = StringType(),\\\n",
    "                        stage_location=\"@my_stage\",\\\n",
    "                        packages=[\"snowflake-snowpark-python\"]\n",
    "                        )\n"
   ]
  },
  {
   "attachments": {},
   "cell_type": "markdown",
   "metadata": {},
   "source": [
    "#### Stored Procedure -  Data Transformation"
   ]
  },
  {
   "cell_type": "code",
   "execution_count": 12,
   "metadata": {},
   "outputs": [],
   "source": [
    "\n",
    "def data_transform(session: Session):\n",
    "\n",
    "    #### Loading Required Tables\n",
    "    marketing_final = session.table(\"FINAL_MARKETING_DATA\")\n",
    "    market_subset = marketing_final.select(\"EDUCATION\",\"MARITAL_STATUS\",\"INCOME\")\n",
    "    market_pivot = market_subset.pivot(\"EDUCATION\",[\"Graduation\",\"PhD\",\"Master\",\"Basic\",\"2n Cycle\"]).sum(\"INCOME\")\n",
    "\n",
    "\n",
    "    #### Writing Transformed Data To New Table\n",
    "    market_pivot.write.save_as_table(\"MARKETING_PIVOT\")\n",
    "    return \"CREATED MARKETING PIVOT TABLE\"\n",
    "\n",
    "\n",
    "data_transform_sproc = sproc(\n",
    "                        func= data_transform,\\\n",
    "                        replace=True,\\\n",
    "                        return_type = StringType(),\\\n",
    "                        stage_location=\"@my_stage\",\\\n",
    "                        packages=[\"snowflake-snowpark-python\"]\n",
    "                        )\n",
    "    "
   ]
  },
  {
   "attachments": {},
   "cell_type": "markdown",
   "metadata": {},
   "source": [
    "#### Stored Procedure -  Data Cleanup"
   ]
  },
  {
   "cell_type": "code",
   "execution_count": 13,
   "metadata": {},
   "outputs": [],
   "source": [
    "\n",
    "def data_cleanup(session: Session):\n",
    "\n",
    "    #### Loading Required Tables\n",
    "    market_pivot = session.table(\"MARKETING_PIVOT\")\n",
    "    \n",
    "    market_drop_null = market_pivot.dropna(thresh=5)\n",
    "\n",
    "\n",
    "    #### Writing Cleaned Data To New Table\n",
    "    market_drop_null.write.save_as_table(\"MARKET_PIVOT_CLEANED\")\n",
    "    return \"CREATED CLEANED TABLE\"\n",
    "\n",
    "\n",
    "data_cleanup_sproc = sproc(\n",
    "                        func= data_cleanup,\\\n",
    "                        replace=True,\\\n",
    "                        return_type = StringType(),\\\n",
    "                        stage_location=\"@my_stage\",\\\n",
    "                        packages=[\"snowflake-snowpark-python\"]\n",
    "                        )\n",
    "    "
   ]
  },
  {
   "cell_type": "code",
   "execution_count": 14,
   "metadata": {},
   "outputs": [],
   "source": [
    "# session.sql(\"drop table FINAL_MARKETING_DATA;\").show()\n",
    "# session.sql(\"drop table MARKETING_PIVOT;\").show()\n",
    "# session.sql(\"drop table MARKET_PIVOT_CLEANED;\").show()"
   ]
  },
  {
   "attachments": {},
   "cell_type": "markdown",
   "metadata": {},
   "source": [
    "#### Calling Stored Procedure"
   ]
  },
  {
   "cell_type": "code",
   "execution_count": 15,
   "metadata": {},
   "outputs": [
    {
     "data": {
      "text/plain": [
       "'CREATED CLEANED TABLE'"
      ]
     },
     "execution_count": 15,
     "metadata": {},
     "output_type": "execute_result"
    }
   ],
   "source": [
    "\n",
    "#### Calling Data Preparation Stored Procedure\n",
    "data_prep_sproc()\n",
    "\n",
    "#### Calling Data Transformation Stored Procedure\n",
    "data_transform_sproc()\n",
    "\n",
    "#### Calling Data Cleanup Stored Procedure\n",
    "data_cleanup_sproc()\n"
   ]
  },
  {
   "attachments": {},
   "cell_type": "markdown",
   "metadata": {},
   "source": [
    "## Logging & Trace In Snowpark"
   ]
  },
  {
   "attachments": {},
   "cell_type": "markdown",
   "metadata": {},
   "source": [
    "#### Creating and Setting Up Event Table"
   ]
  },
  {
   "cell_type": "code",
   "execution_count": 16,
   "metadata": {},
   "outputs": [
    {
     "name": "stdout",
     "output_type": "stream",
     "text": [
      "-----------------------------------------\n",
      "|\"status\"                               |\n",
      "-----------------------------------------\n",
      "|Table MY_EVENTS successfully created.  |\n",
      "-----------------------------------------\n",
      "\n",
      "------------------------------------\n",
      "|\"status\"                          |\n",
      "------------------------------------\n",
      "|Statement executed successfully.  |\n",
      "------------------------------------\n",
      "\n",
      "------------------------------------\n",
      "|\"status\"                          |\n",
      "------------------------------------\n",
      "|Statement executed successfully.  |\n",
      "------------------------------------\n",
      "\n"
     ]
    }
   ],
   "source": [
    "session.sql('''CREATE EVENT TABLE MY_EVENTS;''').show()\n",
    "session.sql('''ALTER ACCOUNT SET EVENT_TABLE = SNOWPARK_DEFINITIVE_GUIDE.MY_SCHEMA.MY_EVENTS;''').show()\n",
    "session.sql('''alter session set log_level = INFO;''').show()"
   ]
  },
  {
   "attachments": {},
   "cell_type": "markdown",
   "metadata": {},
   "source": [
    "#### Data Prep Stored Procedure with Info Logs"
   ]
  },
  {
   "cell_type": "code",
   "execution_count": 20,
   "metadata": {},
   "outputs": [
    {
     "data": {
      "text/plain": [
       "<snowflake.snowpark.stored_procedure.StoredProcedure at 0x217ede2afd0>"
      ]
     },
     "execution_count": 20,
     "metadata": {},
     "output_type": "execute_result"
    }
   ],
   "source": [
    "from snowflake.snowpark.functions import sproc\n",
    "import logging\n",
    "\n",
    "def data_prep(session: Session):\n",
    "\n",
    "    ## Initializing Logger\n",
    "    logger = logging.getLogger(\"My_Logger\")\n",
    "    logger.info(\"Data Preparation Pipeline Starts\")\n",
    "    \n",
    "    #### Loading Required Tables\n",
    "    logger.info(\"Loading Required Tables\")\n",
    "\n",
    "    purchase_history = session.table(\"PURCHASE_HISTORY\")\n",
    "    campaign_info = session.table(\"CAMPAIGN_INFO\")\n",
    "    complain_info = session.table(\"COMPLAINT_INFO\")\n",
    "    marketing_additional = session.table(\"MARKETING_ADDITIONAL\")\n",
    "\n",
    "    #### Calling Step 1\n",
    "    purchase_campaign = combine_campaign_table(purchase_history,campaign_info)\n",
    "\n",
    "    logger.info(\"Joined Purchase and Campaign Tables\")\n",
    "\n",
    "    #### Calling Step 2\n",
    "    purchase_campaign_complain =  combine_complain_table(purchase_campaign,complain_info)\n",
    "\n",
    "    logger.info(\"Joined Complain Table\")\n",
    "\n",
    "    #### Calling Step 3\n",
    "    final_marketing_data = union_marketing_additional_table(purchase_campaign_complain,marketing_additional)\n",
    "\n",
    "    logger.info(\"Final Marketing Data Created\")\n",
    "\n",
    "    #### Writing Combined Data To New Table\n",
    "    final_marketing_data.write.save_as_table(\"FINAL_MARKETING_DATA\", mode=\"overwrite\")\n",
    "\n",
    "    logger.info(\"Final Marketing Data Table Created\")    \n",
    "    return \"LOADED FINAL MARKETING DATA TABLE\"\n",
    "\n",
    "\n",
    "##################################################################\n",
    "## Register Stored Procedure in Snowflake\n",
    "\n",
    "### Add packages and data types\n",
    "from snowflake.snowpark.types import StringType\n",
    "session.add_packages('snowflake-snowpark-python')\n",
    "\n",
    "### Upload Stored Produre to Snowflake\n",
    "session.sproc.register(\n",
    "    func = data_prep\n",
    "  , return_type = StringType()\n",
    "  , input_types = []\n",
    "  , is_permanent = True\n",
    "  , name = 'DATA_PREP_SPROC_LOG'\n",
    "  , replace = True\n",
    "  , stage_location = '@MY_STAGE'\n",
    ")\n"
   ]
  },
  {
   "attachments": {},
   "cell_type": "markdown",
   "metadata": {},
   "source": [
    "#### Excecuting Stored Procedure - Logging"
   ]
  },
  {
   "cell_type": "code",
   "execution_count": 21,
   "metadata": {},
   "outputs": [
    {
     "name": "stdout",
     "output_type": "stream",
     "text": [
      "-------------------------------------\n",
      "|\"DATA_PREP_SPROC_LOG\"              |\n",
      "-------------------------------------\n",
      "|LOADED FINAL MARKETING DATA TABLE  |\n",
      "-------------------------------------\n",
      "\n"
     ]
    }
   ],
   "source": [
    "\n",
    "session.sql(''' Call DATA_PREP_SPROC_LOG()''').show()"
   ]
  },
  {
   "attachments": {},
   "cell_type": "markdown",
   "metadata": {},
   "source": [
    "##### Retriving the Logs"
   ]
  },
  {
   "cell_type": "code",
   "execution_count": 23,
   "metadata": {},
   "outputs": [
    {
     "name": "stdout",
     "output_type": "stream",
     "text": [
      "------------------------------------------------------\n",
      "|\"SEVERITY\"  |\"MESSAGE\"                              |\n",
      "------------------------------------------------------\n",
      "|\"INFO\"      |\"Data Preparation Pipeline Starts\"     |\n",
      "|\"INFO\"      |\"Loading Required Tables\"              |\n",
      "|\"INFO\"      |\"Joined Purchase and Campaign Tables\"  |\n",
      "|\"INFO\"      |\"Joined Complain Table\"                |\n",
      "|\"INFO\"      |\"Final Marketing Data Created\"         |\n",
      "|\"INFO\"      |\"Data Preparation Pipeline Starts\"     |\n",
      "|\"INFO\"      |\"Loading Required Tables\"              |\n",
      "|\"INFO\"      |\"Joined Purchase and Campaign Tables\"  |\n",
      "|\"INFO\"      |\"Joined Complain Table\"                |\n",
      "|\"INFO\"      |\"Final Marketing Data Created\"         |\n",
      "------------------------------------------------------\n",
      "\n"
     ]
    }
   ],
   "source": [
    "session.sql(\"\"\"SELECT RECORD['severity_text'] AS SEVERITY,VALUE AS MESSAGE\n",
    "        FROM MY_EVENTS\n",
    "        WHERE SCOPE['name'] = 'My_Logger'\n",
    "        AND RECORD_TYPE = 'LOG'\"\"\").show()"
   ]
  },
  {
   "attachments": {},
   "cell_type": "markdown",
   "metadata": {},
   "source": [
    "#### Handling Exceptions"
   ]
  },
  {
   "cell_type": "code",
   "execution_count": 24,
   "metadata": {},
   "outputs": [
    {
     "data": {
      "text/plain": [
       "<snowflake.snowpark.stored_procedure.StoredProcedure at 0x217ede2a130>"
      ]
     },
     "execution_count": 24,
     "metadata": {},
     "output_type": "execute_result"
    }
   ],
   "source": [
    "def data_transform(session: Session):\n",
    "    try:\n",
    "\n",
    "        ## Initializing Logger\n",
    "        logger = logging.getLogger(\"Data_Transform_Logger\")\n",
    "        logger.info(\"Data Transformation Pipeline Starts\")\n",
    "\n",
    "        ## Pivoting Process \n",
    "        marketing_final = session.table(\"FINAL_MARKETING_DATA\")\n",
    "        market_subset = marketing_final.select(\"EDUCATION\",\"MARITAL_STATUS\",\"INCOME\")\n",
    "        market_pivot = market_subset.pivot(\"EDUCATION\",[\"Graduation\",\"PhD\",\"Master\",\"Basic\",\"2n Cycle\"]).sum(\"INCOME\")\n",
    "\n",
    "        #### Writing Transformed Data To New Table\n",
    "        market_pivot.write.save_as_table(\"MAREKTING_PIVOT\", mode=\"overwrite\")\n",
    "        logger.log(\"MARKETING PIVOT TABLE CREATED\")\n",
    "        return \"CREATED MARKETING PIVOT TABLE\"\n",
    "\n",
    "    except Exception as err:\n",
    "        logger.error(\"Logging an error from Python handler: \")\n",
    "        logger.error(err)\n",
    "        return \"ERROR\"\n",
    "\n",
    "\n",
    "##################################################################\n",
    "## Register Stored Procedure in Snowflake\n",
    "\n",
    "### Add packages and data types\n",
    "from snowflake.snowpark.types import StringType\n",
    "session.add_packages('snowflake-snowpark-python')\n",
    "\n",
    "### Upload Stored Produre to Snowflake\n",
    "session.sproc.register(\n",
    "    func = data_transform\n",
    "  , return_type = StringType()\n",
    "  , input_types = []\n",
    "  , is_permanent = True\n",
    "  , name = 'DATA_TRANSFORM_SPROC_LOG_ERROR'\n",
    "  , replace = True\n",
    "  , stage_location = '@MY_STAGE'\n",
    ")"
   ]
  },
  {
   "cell_type": "code",
   "execution_count": 25,
   "metadata": {},
   "outputs": [
    {
     "name": "stdout",
     "output_type": "stream",
     "text": [
      "------------------------------------\n",
      "|\"DATA_TRANSFORM_SPROC_LOG_ERROR\"  |\n",
      "------------------------------------\n",
      "|ERROR                             |\n",
      "------------------------------------\n",
      "\n"
     ]
    }
   ],
   "source": [
    "session.sql(''' Call DATA_TRANSFORM_SPROC_LOG_ERROR()''').show()"
   ]
  },
  {
   "cell_type": "code",
   "execution_count": 26,
   "metadata": {},
   "outputs": [
    {
     "data": {
      "text/plain": [
       "[]"
      ]
     },
     "execution_count": 26,
     "metadata": {},
     "output_type": "execute_result"
    }
   ],
   "source": [
    "session.sql(\"\"\"SELECT RECORD['severity_text'] AS SEVERITY,VALUE AS MESSAGE\n",
    "        FROM MY_EVENTS\n",
    "        WHERE SCOPE['name'] = 'Data_Transform_Logger'\n",
    "        AND RECORD_TYPE = 'LOG'\"\"\").collect()"
   ]
  },
  {
   "attachments": {},
   "cell_type": "markdown",
   "metadata": {},
   "source": [
    "#### Setting Up Event Traces"
   ]
  },
  {
   "cell_type": "code",
   "execution_count": 27,
   "metadata": {},
   "outputs": [
    {
     "name": "stdout",
     "output_type": "stream",
     "text": [
      "------------------------------------\n",
      "|\"status\"                          |\n",
      "------------------------------------\n",
      "|Statement executed successfully.  |\n",
      "------------------------------------\n",
      "\n"
     ]
    }
   ],
   "source": [
    "#session.sql(\"alter session set trace_level = ON_EVENT;\").show()\n",
    "session.sql(\"ALTER SESSION SET TRACE_LEVEL = ALWAYS;\").show()"
   ]
  },
  {
   "cell_type": "code",
   "execution_count": 34,
   "metadata": {},
   "outputs": [
    {
     "name": "stderr",
     "output_type": "stream",
     "text": [
      "Package 'snowflake-telemetry-python' is not installed in the local environment. Your UDF might not work when the package is installed on the server but not on your local environment.\n"
     ]
    },
    {
     "data": {
      "text/plain": [
       "<snowflake.snowpark.stored_procedure.StoredProcedure at 0x217ee04d580>"
      ]
     },
     "execution_count": 34,
     "metadata": {},
     "output_type": "execute_result"
    }
   ],
   "source": [
    "\n",
    "def data_cleanup(session: Session):\n",
    "\n",
    "    #### Loading Telemetry Package\n",
    "    from snowflake import telemetry\n",
    "\n",
    "    #### Loading Required Tables\n",
    "    market_pivot = session.table(\"MARKETING_PIVOT\")\n",
    "    \n",
    "    #### Adding Trace Event\n",
    "    telemetry.add_event(\"data_cleanup\", {\"table_name\": \"MARKETING_PIVOT\", \"count\": market_pivot.count()})\n",
    "\n",
    "    #### Dropping Null\n",
    "    market_drop_null = market_pivot.dropna(thresh=5)\n",
    "\n",
    "    #### Writing Cleaned Data To New Table\n",
    "    market_drop_null.write.save_as_table(\"MARKET_PIVOT_CLEANED\", mode=\"overwrite\")\n",
    "\n",
    "    #### Adding Trace Event\n",
    "    telemetry.add_event(\"data_cleanup\", {\"table_name\": \"MARKET_PIVOT_CLEANED\", \"count\": market_drop_null.count()})\n",
    "\n",
    "    return \"CREATED CLEANED TABLE\"\n",
    "\n",
    "\n",
    "##################################################################\n",
    "## Register Stored Procedure in Snowflake\n",
    "\n",
    "### Add packages and data types\n",
    "from snowflake.snowpark.types import StringType\n",
    "session.add_packages('snowflake-snowpark-python', 'snowflake-telemetry-python')\n",
    "\n",
    "### Upload Stored Produre to Snowflake\n",
    "session.sproc.register(\n",
    "    func = data_cleanup\n",
    "  , return_type = StringType()\n",
    "  , input_types = []\n",
    "  , is_permanent = True\n",
    "  , name = 'DATA_CLEANUP_SPROC_TRACE'\n",
    "  , replace = True\n",
    "  , stage_location = '@MY_STAGE'\n",
    ")  "
   ]
  },
  {
   "cell_type": "code",
   "execution_count": 35,
   "metadata": {},
   "outputs": [
    {
     "name": "stdout",
     "output_type": "stream",
     "text": [
      "------------------------------\n",
      "|\"DATA_CLEANUP_SPROC_TRACE\"  |\n",
      "------------------------------\n",
      "|CREATED CLEANED TABLE       |\n",
      "------------------------------\n",
      "\n"
     ]
    }
   ],
   "source": [
    "session.sql(''' Call DATA_CLEANUP_SPROC_TRACE()''').show()"
   ]
  },
  {
   "cell_type": "code",
   "execution_count": 36,
   "metadata": {},
   "outputs": [
    {
     "name": "stdout",
     "output_type": "stream",
     "text": [
      "-----------------------------------------------------------------------------------------------------------------------------------------------------\n",
      "|\"TIME\"                      |\"HANDLER_NAME\"                                  |\"HANDLER_TYPE\"  |\"EVENT_NAME\"    |\"ATTRIBUTES\"                       |\n",
      "-----------------------------------------------------------------------------------------------------------------------------------------------------\n",
      "|2024-01-17 04:06:01.456997  |\"DATA_CLEANUP_SPROC_TRACE():VARCHAR(16777216)\"  |\"PROCEDURE\"     |\"data_cleanup\"  |{                                  |\n",
      "|                            |                                                |                |                |  \"count\": 8,                      |\n",
      "|                            |                                                |                |                |  \"table_name\": \"MARKETING_PIVOT\"  |\n",
      "|                            |                                                |                |                |}                                  |\n",
      "|2024-01-17 04:06:21.032342  |\"DATA_CLEANUP_SPROC_TRACE():VARCHAR(16777216)\"  |\"PROCEDURE\"     |\"data_cleanup\"  |{                                  |\n",
      "|                            |                                                |                |                |  \"count\": 8,                      |\n",
      "|                            |                                                |                |                |  \"table_name\": \"MARKETING_PIVOT\"  |\n",
      "|                            |                                                |                |                |}                                  |\n",
      "-----------------------------------------------------------------------------------------------------------------------------------------------------\n",
      "\n"
     ]
    }
   ],
   "source": [
    "session.sql(\"\"\" SELECT\n",
    "  TIMESTAMP as time,\n",
    "  RESOURCE_ATTRIBUTES['snow.executable.name'] as handler_name,\n",
    "  RESOURCE_ATTRIBUTES['snow.executable.type'] as handler_type,\n",
    "  RECORD['name'] as event_name,\n",
    "  RECORD_ATTRIBUTES as attributes\n",
    "FROM\n",
    "  MY_EVENTS\n",
    "WHERE\n",
    "  EVENT_NAME  ='data_cleanup'\n",
    "\"\"\").show(2)"
   ]
  },
  {
   "cell_type": "code",
   "execution_count": 37,
   "metadata": {},
   "outputs": [
    {
     "name": "stdout",
     "output_type": "stream",
     "text": [
      "----------------------------------------------\n",
      "|\"status\"                                    |\n",
      "----------------------------------------------\n",
      "|MARKET_PIVOT_CLEANED successfully dropped.  |\n",
      "----------------------------------------------\n",
      "\n"
     ]
    }
   ],
   "source": [
    "session.sql(\"drop table MARKET_PIVOT_CLEANED;\").show()"
   ]
  }
 ],
 "metadata": {
  "kernelspec": {
   "display_name": "Python 3 (ipykernel)",
   "language": "python",
   "name": "python3"
  },
  "language_info": {
   "codemirror_mode": {
    "name": "ipython",
    "version": 3
   },
   "file_extension": ".py",
   "mimetype": "text/x-python",
   "name": "python",
   "nbconvert_exporter": "python",
   "pygments_lexer": "ipython3",
   "version": "3.8.18"
  }
 },
 "nbformat": 4,
 "nbformat_minor": 4
}
